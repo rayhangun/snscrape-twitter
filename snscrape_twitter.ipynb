{
  "nbformat": 4,
  "nbformat_minor": 0,
  "metadata": {
    "colab": {
      "name": "snscrape-twitter.ipynb",
      "provenance": []
    },
    "kernelspec": {
      "name": "python3",
      "display_name": "Python 3"
    },
    "language_info": {
      "name": "python"
    }
  },
  "cells": [
    {
      "cell_type": "code",
      "source": [
        "!pip install snscrape"
      ],
      "metadata": {
        "colab": {
          "base_uri": "https://localhost:8080/"
        },
        "id": "3iRT2EqfQpKs",
        "outputId": "ed4b31d3-d343-4991-cb07-624f85eca46f"
      },
      "execution_count": null,
      "outputs": [
        {
          "output_type": "stream",
          "name": "stdout",
          "text": [
            "Looking in indexes: https://pypi.org/simple, https://us-python.pkg.dev/colab-wheels/public/simple/\n",
            "Requirement already satisfied: snscrape in /usr/local/lib/python3.7/dist-packages (0.3.4)\n",
            "Requirement already satisfied: beautifulsoup4 in /usr/local/lib/python3.7/dist-packages (from snscrape) (4.6.3)\n",
            "Requirement already satisfied: lxml in /usr/local/lib/python3.7/dist-packages (from snscrape) (4.2.6)\n",
            "Requirement already satisfied: requests[socks] in /usr/local/lib/python3.7/dist-packages (from snscrape) (2.23.0)\n",
            "Requirement already satisfied: urllib3!=1.25.0,!=1.25.1,<1.26,>=1.21.1 in /usr/local/lib/python3.7/dist-packages (from requests[socks]->snscrape) (1.24.3)\n",
            "Requirement already satisfied: certifi>=2017.4.17 in /usr/local/lib/python3.7/dist-packages (from requests[socks]->snscrape) (2022.5.18.1)\n",
            "Requirement already satisfied: chardet<4,>=3.0.2 in /usr/local/lib/python3.7/dist-packages (from requests[socks]->snscrape) (3.0.4)\n",
            "Requirement already satisfied: idna<3,>=2.5 in /usr/local/lib/python3.7/dist-packages (from requests[socks]->snscrape) (2.10)\n",
            "Requirement already satisfied: PySocks!=1.5.7,>=1.5.6 in /usr/local/lib/python3.7/dist-packages (from requests[socks]->snscrape) (1.7.1)\n"
          ]
        }
      ]
    },
    {
      "cell_type": "code",
      "source": [
        "import snscrape.modules.twitter as sntwitter\n",
        "import pandas as pd"
      ],
      "metadata": {
        "id": "aZnoy45WRNkr"
      },
      "execution_count": null,
      "outputs": []
    },
    {
      "cell_type": "code",
      "source": [
        "query = \"(pemulihan ekonomi) lang:id until:2022-06-10 since:2022-03-01\"\n",
        "tweets = []\n",
        "limit = 1000\n",
        "\n",
        "%time\n",
        "try:\n",
        "  print(\"Start crawling ...\")\n",
        "  for tweet in sntwitter.TwitterSearchScraper(query=query).get_items():\n",
        "    if len(tweets) == limit:\n",
        "      break\n",
        "    else:\n",
        "      tweets.append([tweet.date, tweet.username, tweet.content])  \n",
        "  df = pd.DataFrame(tweets, columns = ['date', 'username', 'tweets'])\n",
        "except Exception as e:\n",
        "  print(e)\n",
        "\n",
        "print(\"---Finished---\")"
      ],
      "metadata": {
        "colab": {
          "base_uri": "https://localhost:8080/"
        },
        "id": "vx6kPPM3SosZ",
        "outputId": "d08180f3-e558-4d0f-a9b8-479632a0459f"
      },
      "execution_count": null,
      "outputs": [
        {
          "output_type": "stream",
          "name": "stdout",
          "text": [
            "CPU times: user 3 µs, sys: 0 ns, total: 3 µs\n",
            "Wall time: 8.11 µs\n",
            "Start crawling ...\n",
            "---Finished---\n"
          ]
        }
      ]
    },
    {
      "cell_type": "code",
      "source": [
        "df"
      ],
      "metadata": {
        "colab": {
          "base_uri": "https://localhost:8080/",
          "height": 424
        },
        "id": "FN8yCD3vW4iQ",
        "outputId": "5237a37b-a083-425a-ab5d-fe194a69b7f3"
      },
      "execution_count": null,
      "outputs": [
        {
          "output_type": "execute_result",
          "data": {
            "text/plain": [
              "                         date         username  \\\n",
              "0   2022-06-09 23:44:48+00:00      TiaraDini16   \n",
              "1   2022-06-09 23:41:22+00:00          thozrne   \n",
              "2   2022-06-09 23:30:33+00:00       BisBanNews   \n",
              "3   2022-06-09 23:26:18+00:00  Permata30713585   \n",
              "4   2022-06-09 23:01:20+00:00  Pandawa18981975   \n",
              "..                        ...              ...   \n",
              "995 2022-06-01 09:26:10+00:00  OfficialiNewsTV   \n",
              "996 2022-06-01 09:26:10+00:00     SeputariNews   \n",
              "997 2022-06-01 09:26:08+00:00       GTVID_News   \n",
              "998 2022-06-01 09:26:05+00:00     Lintas_MNCTV   \n",
              "999 2022-06-01 09:26:03+00:00     SeputariNews   \n",
              "\n",
              "                                                tweets  \n",
              "0    Puan Maharani Sambut Baik RAPBN 2023: Dirancan...  \n",
              "1    Puan Maharani mengatakan kebijakan fiskal APBN...  \n",
              "2    Anggasa Wijaya Siap Berkontribusi Melalui Pemi...  \n",
              "3    Momentun pemulihan ekonomi ini sangat perlu di...  \n",
              "4    Momentum pemulihan ekonomi perlu dijaga dan di...  \n",
              "..                                                 ...  \n",
              "995  Kebut Pemulihan Ekonomi &amp; Sektor Parekraf,...  \n",
              "996  Kebut Pemulihan Ekonomi &amp; Sektor Parekraf,...  \n",
              "997  Kebut Pemulihan Ekonomi &amp; Sektor Parekraf,...  \n",
              "998  Kebut Pemulihan Ekonomi &amp; Sektor Parekraf,...  \n",
              "999  Kebut Pemulihan Ekonomi &amp; Sektor Parekraf,...  \n",
              "\n",
              "[1000 rows x 3 columns]"
            ],
            "text/html": [
              "\n",
              "  <div id=\"df-aed74d2b-b2ed-4331-8c2d-ca3d52ec0c0e\">\n",
              "    <div class=\"colab-df-container\">\n",
              "      <div>\n",
              "<style scoped>\n",
              "    .dataframe tbody tr th:only-of-type {\n",
              "        vertical-align: middle;\n",
              "    }\n",
              "\n",
              "    .dataframe tbody tr th {\n",
              "        vertical-align: top;\n",
              "    }\n",
              "\n",
              "    .dataframe thead th {\n",
              "        text-align: right;\n",
              "    }\n",
              "</style>\n",
              "<table border=\"1\" class=\"dataframe\">\n",
              "  <thead>\n",
              "    <tr style=\"text-align: right;\">\n",
              "      <th></th>\n",
              "      <th>date</th>\n",
              "      <th>username</th>\n",
              "      <th>tweets</th>\n",
              "    </tr>\n",
              "  </thead>\n",
              "  <tbody>\n",
              "    <tr>\n",
              "      <th>0</th>\n",
              "      <td>2022-06-09 23:44:48+00:00</td>\n",
              "      <td>TiaraDini16</td>\n",
              "      <td>Puan Maharani Sambut Baik RAPBN 2023: Dirancan...</td>\n",
              "    </tr>\n",
              "    <tr>\n",
              "      <th>1</th>\n",
              "      <td>2022-06-09 23:41:22+00:00</td>\n",
              "      <td>thozrne</td>\n",
              "      <td>Puan Maharani mengatakan kebijakan fiskal APBN...</td>\n",
              "    </tr>\n",
              "    <tr>\n",
              "      <th>2</th>\n",
              "      <td>2022-06-09 23:30:33+00:00</td>\n",
              "      <td>BisBanNews</td>\n",
              "      <td>Anggasa Wijaya Siap Berkontribusi Melalui Pemi...</td>\n",
              "    </tr>\n",
              "    <tr>\n",
              "      <th>3</th>\n",
              "      <td>2022-06-09 23:26:18+00:00</td>\n",
              "      <td>Permata30713585</td>\n",
              "      <td>Momentun pemulihan ekonomi ini sangat perlu di...</td>\n",
              "    </tr>\n",
              "    <tr>\n",
              "      <th>4</th>\n",
              "      <td>2022-06-09 23:01:20+00:00</td>\n",
              "      <td>Pandawa18981975</td>\n",
              "      <td>Momentum pemulihan ekonomi perlu dijaga dan di...</td>\n",
              "    </tr>\n",
              "    <tr>\n",
              "      <th>...</th>\n",
              "      <td>...</td>\n",
              "      <td>...</td>\n",
              "      <td>...</td>\n",
              "    </tr>\n",
              "    <tr>\n",
              "      <th>995</th>\n",
              "      <td>2022-06-01 09:26:10+00:00</td>\n",
              "      <td>OfficialiNewsTV</td>\n",
              "      <td>Kebut Pemulihan Ekonomi &amp;amp; Sektor Parekraf,...</td>\n",
              "    </tr>\n",
              "    <tr>\n",
              "      <th>996</th>\n",
              "      <td>2022-06-01 09:26:10+00:00</td>\n",
              "      <td>SeputariNews</td>\n",
              "      <td>Kebut Pemulihan Ekonomi &amp;amp; Sektor Parekraf,...</td>\n",
              "    </tr>\n",
              "    <tr>\n",
              "      <th>997</th>\n",
              "      <td>2022-06-01 09:26:08+00:00</td>\n",
              "      <td>GTVID_News</td>\n",
              "      <td>Kebut Pemulihan Ekonomi &amp;amp; Sektor Parekraf,...</td>\n",
              "    </tr>\n",
              "    <tr>\n",
              "      <th>998</th>\n",
              "      <td>2022-06-01 09:26:05+00:00</td>\n",
              "      <td>Lintas_MNCTV</td>\n",
              "      <td>Kebut Pemulihan Ekonomi &amp;amp; Sektor Parekraf,...</td>\n",
              "    </tr>\n",
              "    <tr>\n",
              "      <th>999</th>\n",
              "      <td>2022-06-01 09:26:03+00:00</td>\n",
              "      <td>SeputariNews</td>\n",
              "      <td>Kebut Pemulihan Ekonomi &amp;amp; Sektor Parekraf,...</td>\n",
              "    </tr>\n",
              "  </tbody>\n",
              "</table>\n",
              "<p>1000 rows × 3 columns</p>\n",
              "</div>\n",
              "      <button class=\"colab-df-convert\" onclick=\"convertToInteractive('df-aed74d2b-b2ed-4331-8c2d-ca3d52ec0c0e')\"\n",
              "              title=\"Convert this dataframe to an interactive table.\"\n",
              "              style=\"display:none;\">\n",
              "        \n",
              "  <svg xmlns=\"http://www.w3.org/2000/svg\" height=\"24px\"viewBox=\"0 0 24 24\"\n",
              "       width=\"24px\">\n",
              "    <path d=\"M0 0h24v24H0V0z\" fill=\"none\"/>\n",
              "    <path d=\"M18.56 5.44l.94 2.06.94-2.06 2.06-.94-2.06-.94-.94-2.06-.94 2.06-2.06.94zm-11 1L8.5 8.5l.94-2.06 2.06-.94-2.06-.94L8.5 2.5l-.94 2.06-2.06.94zm10 10l.94 2.06.94-2.06 2.06-.94-2.06-.94-.94-2.06-.94 2.06-2.06.94z\"/><path d=\"M17.41 7.96l-1.37-1.37c-.4-.4-.92-.59-1.43-.59-.52 0-1.04.2-1.43.59L10.3 9.45l-7.72 7.72c-.78.78-.78 2.05 0 2.83L4 21.41c.39.39.9.59 1.41.59.51 0 1.02-.2 1.41-.59l7.78-7.78 2.81-2.81c.8-.78.8-2.07 0-2.86zM5.41 20L4 18.59l7.72-7.72 1.47 1.35L5.41 20z\"/>\n",
              "  </svg>\n",
              "      </button>\n",
              "      \n",
              "  <style>\n",
              "    .colab-df-container {\n",
              "      display:flex;\n",
              "      flex-wrap:wrap;\n",
              "      gap: 12px;\n",
              "    }\n",
              "\n",
              "    .colab-df-convert {\n",
              "      background-color: #E8F0FE;\n",
              "      border: none;\n",
              "      border-radius: 50%;\n",
              "      cursor: pointer;\n",
              "      display: none;\n",
              "      fill: #1967D2;\n",
              "      height: 32px;\n",
              "      padding: 0 0 0 0;\n",
              "      width: 32px;\n",
              "    }\n",
              "\n",
              "    .colab-df-convert:hover {\n",
              "      background-color: #E2EBFA;\n",
              "      box-shadow: 0px 1px 2px rgba(60, 64, 67, 0.3), 0px 1px 3px 1px rgba(60, 64, 67, 0.15);\n",
              "      fill: #174EA6;\n",
              "    }\n",
              "\n",
              "    [theme=dark] .colab-df-convert {\n",
              "      background-color: #3B4455;\n",
              "      fill: #D2E3FC;\n",
              "    }\n",
              "\n",
              "    [theme=dark] .colab-df-convert:hover {\n",
              "      background-color: #434B5C;\n",
              "      box-shadow: 0px 1px 3px 1px rgba(0, 0, 0, 0.15);\n",
              "      filter: drop-shadow(0px 1px 2px rgba(0, 0, 0, 0.3));\n",
              "      fill: #FFFFFF;\n",
              "    }\n",
              "  </style>\n",
              "\n",
              "      <script>\n",
              "        const buttonEl =\n",
              "          document.querySelector('#df-aed74d2b-b2ed-4331-8c2d-ca3d52ec0c0e button.colab-df-convert');\n",
              "        buttonEl.style.display =\n",
              "          google.colab.kernel.accessAllowed ? 'block' : 'none';\n",
              "\n",
              "        async function convertToInteractive(key) {\n",
              "          const element = document.querySelector('#df-aed74d2b-b2ed-4331-8c2d-ca3d52ec0c0e');\n",
              "          const dataTable =\n",
              "            await google.colab.kernel.invokeFunction('convertToInteractive',\n",
              "                                                     [key], {});\n",
              "          if (!dataTable) return;\n",
              "\n",
              "          const docLinkHtml = 'Like what you see? Visit the ' +\n",
              "            '<a target=\"_blank\" href=https://colab.research.google.com/notebooks/data_table.ipynb>data table notebook</a>'\n",
              "            + ' to learn more about interactive tables.';\n",
              "          element.innerHTML = '';\n",
              "          dataTable['output_type'] = 'display_data';\n",
              "          await google.colab.output.renderOutput(dataTable, element);\n",
              "          const docLink = document.createElement('div');\n",
              "          docLink.innerHTML = docLinkHtml;\n",
              "          element.appendChild(docLink);\n",
              "        }\n",
              "      </script>\n",
              "    </div>\n",
              "  </div>\n",
              "  "
            ]
          },
          "metadata": {},
          "execution_count": 49
        }
      ]
    },
    {
      "cell_type": "code",
      "source": [
        "df.to_csv('raw_tweet_2.csv', index = False)"
      ],
      "metadata": {
        "id": "pwjarB4uXk1K"
      },
      "execution_count": null,
      "outputs": []
    }
  ]
}